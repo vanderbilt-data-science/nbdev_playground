{
 "cells": [
  {
   "cell_type": "markdown",
   "metadata": {},
   "source": [
    "# 10_core\n",
    "> Demo notebook for exploring nbdev\n",
    "\n",
    "In this notebook, we explore the functionality of nbdev.  In a sample project, perhaps we have a complex set of data that needs to be processed or needs to be somehow read and accessed by everyone on the project or in other notebooks.  Let's see how we can do this!"
   ]
  },
  {
   "cell_type": "code",
   "execution_count": null,
   "metadata": {},
   "outputs": [],
   "source": [
    "\n",
    "#all_no_test"
   ]
  },
  {
   "cell_type": "markdown",
   "metadata": {},
   "source": [
    "## First time setup\n",
    "The first time you start using the repository, you'll need to run the following commands to get everything working.  Since we have access to a terminal, we'll use that to work with any command line functionality.  We'll discuss what these commands mean further in a moment.\n",
    "```\n",
    "nbdev_install_git_hooks\n",
    "nbdev_clean_nbs\n",
    "nbdev_build_docs\n",
    "```"
   ]
  },
  {
   "cell_type": "markdown",
   "metadata": {},
   "source": [
    "# Core functionality\n",
    "The purpose of this demo notebook is to read from files and process them.  Let's say for instance that we have a function that for some reason needs to append `.pdf` to a string that has been input."
   ]
  },
  {
   "cell_type": "code",
   "execution_count": null,
   "metadata": {},
   "outputs": [],
   "source": [
    "\n",
    "import requests\n",
    "import pandas as pd"
   ]
  },
  {
   "cell_type": "code",
   "execution_count": null,
   "metadata": {},
   "outputs": [],
   "source": [
    "files_list = [551293, 373587, 597061, 434648, 532970,\n",
    "              520668, 209035, 830014, 671125, 893941,\n",
    "              479957, 541893, 836261, 244666, 696866,\n",
    "              332305, 930880, 297116, 542169, 272307]\n",
    "files_base = 'https://raw.githubusercontent.com/vanderbilt-data-science/python-for-deep-learning-workshop/master/workshop-files/'\n",
    "files_type = '.txt'"
   ]
  },
  {
   "cell_type": "code",
   "execution_count": null,
   "metadata": {},
   "outputs": [],
   "source": [
    "#get files\n"
   ]
  },
  {
   "cell_type": "code",
   "execution_count": null,
   "metadata": {},
   "outputs": [],
   "source": [
    "#check files\n"
   ]
  },
  {
   "cell_type": "markdown",
   "metadata": {},
   "source": [
    "Now, we perform a unit test on the function we've written..."
   ]
  },
  {
   "cell_type": "code",
   "execution_count": null,
   "metadata": {},
   "outputs": [],
   "source": [
    "#get it into a dataframe\n"
   ]
  },
  {
   "cell_type": "markdown",
   "metadata": {},
   "source": [
    "# Collaboration\n",
    "What if we were collaborating with others and wanted to use this data extensively?  What if this functionality was SUBSTANTIALLY more complex and took several functions and cells to implement?"
   ]
  },
  {
   "cell_type": "code",
   "execution_count": null,
   "metadata": {},
   "outputs": [],
   "source": [
    "\n",
    "def read_data(files_list=[]):\n",
    "    if not files_list:\n",
    "        files_list = [551293, 373587, 597061, 434648, 532970,\n",
    "              520668, 209035, 830014, 671125, 893941,\n",
    "              479957, 541893, 836261, 244666, 696866,\n",
    "              332305, 930880, 297116, 542169, 272307]\n",
    "    \n",
    "    files_base = 'https://raw.githubusercontent.com/vanderbilt-data-science/python-for-deep-learning-workshop/master/workshop-files/'\n",
    "    files_type = '.txt'\n",
    "    \n",
    "    #fill in the rest here\n",
    "    \n"
   ]
  },
  {
   "cell_type": "markdown",
   "metadata": {},
   "source": [
    "### Test to make sure the function works:"
   ]
  },
  {
   "cell_type": "code",
   "execution_count": null,
   "metadata": {},
   "outputs": [],
   "source": []
  },
  {
   "cell_type": "markdown",
   "metadata": {},
   "source": [
    "**Questions to consider about the above code development**:  \n",
    "We just now copied and pasted the same exact variable names into the function as what we used.  What would happen if we were to have missed a variable that we defined outside of the function, but used inside the function?  Can you think of any pitfalls of keeping the same variable names in the function as in the outside code?  What other approaches could you take?"
   ]
  },
  {
   "cell_type": "markdown",
   "metadata": {},
   "source": [
    "# Building modules and cleaning notebooks\n",
    "The following commands are useful for cleaning notebooks and building your module library, and we'll again use them at the command line.  Let's see what they do.  The commands are listed below for convenience:\n",
    "```\n",
    "nbdev_clean_nbs\n",
    "nbdev_build_lib\n",
    "```"
   ]
  },
  {
   "cell_type": "markdown",
   "metadata": {},
   "source": [
    "# Try it yourself!\n",
    "In the section below, create a function which takes in the dataframe we produced, and returns a random sample of half of the data.  You can use the `sample` function from pandas to do this with the `frac` argument (https://pandas.pydata.org/docs/reference/api/pandas.DataFrame.sample.html).\n",
    "\n",
    "Make sure that you correctly export this function and check to see that it is in the library you created."
   ]
  },
  {
   "cell_type": "code",
   "execution_count": null,
   "metadata": {},
   "outputs": [],
   "source": [
    "#define function\n",
    "def random_subsample(df):\n",
    "    #add your code here!"
   ]
  },
  {
   "cell_type": "code",
   "execution_count": null,
   "metadata": {},
   "outputs": [],
   "source": [
    "#get results\n"
   ]
  }
 ],
 "metadata": {
  "kernelspec": {
   "display_name": "Python 3",
   "language": "python",
   "name": "python3"
  },
  "language_info": {
   "codemirror_mode": {
    "name": "ipython",
    "version": 3
   },
   "file_extension": ".py",
   "mimetype": "text/x-python",
   "name": "python",
   "nbconvert_exporter": "python",
   "pygments_lexer": "ipython3",
   "version": "3.8.10"
  }
 },
 "nbformat": 4,
 "nbformat_minor": 4
}
