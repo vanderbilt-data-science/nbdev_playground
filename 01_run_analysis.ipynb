{
 "cells": [
  {
   "cell_type": "code",
   "execution_count": null,
   "metadata": {},
   "outputs": [],
   "source": [
    "# default_exp run_analysis"
   ]
  },
  {
   "cell_type": "markdown",
   "metadata": {},
   "source": [
    "# nbdev_playground\n",
    "\n",
    "> Here, we explore the functionality of nbdev."
   ]
  },
  {
   "cell_type": "code",
   "execution_count": null,
   "metadata": {},
   "outputs": [],
   "source": [
    "#hide\n",
    "#no_test\n",
    "from nbdev.showdoc import *"
   ]
  },
  {
   "cell_type": "markdown",
   "metadata": {},
   "source": [
    "In this section, we write a function that does a thing.  At the end, we also create a test to make sure things are working correctly.  At the end of this, we use the function notebook2script which converts the non-`no_test` cells into the module.  Make sure you save before running this command, and also, you check the module to see that the function was created correctly."
   ]
  },
  {
   "cell_type": "code",
   "execution_count": null,
   "metadata": {},
   "outputs": [],
   "source": [
    "#export\n",
    "def div2(voi):\n",
    "    '''This function divides an input by two.\n",
    "    voi: numerical (int, float)\n",
    "    returns: voi/2\n",
    "    '''\n",
    "    \n",
    "    return voi/2"
   ]
  },
  {
   "cell_type": "code",
   "execution_count": null,
   "metadata": {},
   "outputs": [],
   "source": [
    "assert div2(2)==1"
   ]
  },
  {
   "cell_type": "code",
   "execution_count": null,
   "metadata": {},
   "outputs": [],
   "source": [
    "#export\n",
    "def cube(x):\n",
    "    #cubing the input, x\n",
    "    final = x*x*x\n",
    "    return final"
   ]
  }
 ],
 "metadata": {
  "kernelspec": {
   "display_name": "Python 3",
   "language": "python",
   "name": "python3"
  }
 },
 "nbformat": 4,
 "nbformat_minor": 4
}
