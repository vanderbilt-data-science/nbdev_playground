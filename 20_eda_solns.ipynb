{
 "cells": [
  {
   "cell_type": "markdown",
   "id": "203c1d03-e07f-447b-980e-209389e949aa",
   "metadata": {},
   "source": [
    "# 20_eda_solns\n",
    "> A demo notebook using previously defined modules\n",
    "\n",
    "In this notebook, we continue our example of our data science project and load modules from other notebooks to perform the desired work."
   ]
  },
  {
   "cell_type": "code",
   "execution_count": null,
   "id": "12795c70-3ada-4896-b686-996798b06f6e",
   "metadata": {},
   "outputs": [],
   "source": [
    "# all_no_test"
   ]
  },
  {
   "cell_type": "markdown",
   "id": "71b2a19b-22ea-405d-8e31-88574bc28fa5",
   "metadata": {},
   "source": [
    "# Exploratory Data Analysis of Dataset\n",
    "In this section we perform EDA to become more familiar with the data, identify odd or unexpected behavior, and form intuition about the data."
   ]
  },
  {
   "cell_type": "code",
   "execution_count": null,
   "id": "5aaff29e-87f6-4fa6-9ec7-e16d3335bbc2",
   "metadata": {},
   "outputs": [],
   "source": [
    "#imports\n",
    "import pandas as pd\n",
    "import numpy as np\n",
    "\n",
    "#you'd have to substitute in the name of your module\n",
    "from nbdev_playground.data_load import *"
   ]
  },
  {
   "cell_type": "markdown",
   "id": "61e4ef42-e8dd-4f6e-a295-5b1868160181",
   "metadata": {},
   "source": [
    "# Use module we created"
   ]
  },
  {
   "cell_type": "code",
   "execution_count": null,
   "id": "8232c880-7fcf-42f0-a22a-7d9fe87e5585",
   "metadata": {},
   "outputs": [],
   "source": [
    "#we have a set of demo files\n",
    "text_df = read_data()"
   ]
  },
  {
   "cell_type": "code",
   "execution_count": null,
   "id": "157ad461-45ad-419f-8ccc-c15091e7e343",
   "metadata": {},
   "outputs": [],
   "source": [
    "#get random subset\n",
    "df_ss = random_subsample(text_df)"
   ]
  }
 ],
 "metadata": {
  "kernelspec": {
   "display_name": "Python 3",
   "language": "python",
   "name": "python3"
  },
  "language_info": {
   "codemirror_mode": {
    "name": "ipython",
    "version": 3
   },
   "file_extension": ".py",
   "mimetype": "text/x-python",
   "name": "python",
   "nbconvert_exporter": "python",
   "pygments_lexer": "ipython3",
   "version": "3.8.10"
  }
 },
 "nbformat": 4,
 "nbformat_minor": 5
}
