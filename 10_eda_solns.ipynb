{
 "cells": [
  {
   "cell_type": "markdown",
   "id": "203c1d03-e07f-447b-980e-209389e949aa",
   "metadata": {},
   "source": [
    "## 10_eda_solns\n",
    "> A demo notebook using previously defined modules\n",
    "\n",
    "In this notebook, we continue our example of our data science project and load modules from other notebooks to perform the desired work."
   ]
  },
  {
   "cell_type": "code",
   "execution_count": null,
   "id": "12795c70-3ada-4896-b686-996798b06f6e",
   "metadata": {},
   "outputs": [],
   "source": [
    "# all_no_test"
   ]
  },
  {
   "cell_type": "markdown",
   "id": "047e5f68-9706-44b3-b18f-4ca09519e02f",
   "metadata": {},
   "source": [
    "## Compatibility steps for Google Colab\n",
    "These steps are required to access these repo files (your code, built modules, etc) while editing your notebook of interest on Google Colab."
   ]
  },
  {
   "cell_type": "code",
   "execution_count": null,
   "id": "61ba4915-9391-4999-ae48-e925cb9dfc7a",
   "metadata": {},
   "outputs": [],
   "source": [
    "!pip install nbdev"
   ]
  },
  {
   "cell_type": "code",
   "execution_count": null,
   "id": "e720f92c-5cf6-4271-8b20-b1ddbb5e4825",
   "metadata": {},
   "outputs": [],
   "source": [
    "from google.colab import drive\n",
    "drive.mount('/content/drive')"
   ]
  },
  {
   "cell_type": "code",
   "execution_count": null,
   "id": "ea1b6430-b85a-4f44-9eb7-f77cc4f81dce",
   "metadata": {},
   "outputs": [],
   "source": [
    "%cd drive/MyDrive/nbdev_playground"
   ]
  },
  {
   "cell_type": "markdown",
   "id": "71b2a19b-22ea-405d-8e31-88574bc28fa5",
   "metadata": {},
   "source": [
    "# Exploratory Data Analysis of Dataset\n",
    "In this section we perform EDA to become more familiar with the data, identify odd or unexpected behavior, and form intuition about the data."
   ]
  },
  {
   "cell_type": "code",
   "execution_count": null,
   "id": "5aaff29e-87f6-4fa6-9ec7-e16d3335bbc2",
   "metadata": {},
   "outputs": [],
   "source": [
    "#imports\n",
    "import pandas as pd\n",
    "import numpy as np\n",
    "\n",
    "from nbdev_playground.core import *"
   ]
  },
  {
   "cell_type": "markdown",
   "id": "61e4ef42-e8dd-4f6e-a295-5b1868160181",
   "metadata": {},
   "source": [
    "# Read in Files"
   ]
  },
  {
   "cell_type": "code",
   "execution_count": null,
   "id": "8232c880-7fcf-42f0-a22a-7d9fe87e5585",
   "metadata": {},
   "outputs": [],
   "source": [
    "#we have a set of demo files\n",
    "names_list = ['amy_jones', 'jack_taylor', 'mohammed_johnson', 'toya_andreson']"
   ]
  },
  {
   "cell_type": "code",
   "execution_count": null,
   "id": "157ad461-45ad-419f-8ccc-c15091e7e343",
   "metadata": {},
   "outputs": [],
   "source": [
    "#add file ending\n",
    "pdf_files = [append_file_ending(name) for name in names_list]\n",
    "pdf_files"
   ]
  }
 ],
 "metadata": {
  "kernelspec": {
   "display_name": "Python 3",
   "language": "python",
   "name": "python3"
  }
 },
 "nbformat": 4,
 "nbformat_minor": 5
}
