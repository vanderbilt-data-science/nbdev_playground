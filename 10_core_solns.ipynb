{
 "cells": [
  {
   "cell_type": "markdown",
   "metadata": {},
   "source": [
    "# 10_core_solns\n",
    "> Demo notebook for exploring nbdev\n",
    "\n",
    "In this notebook, we explore the functionality of nbdev.  In a sample project, perhaps we have a complex set of data that needs to be processed or needs to be somehow read and accessed by everyone on the project or in other notebooks.  Let's see how we can do this!"
   ]
  },
  {
   "cell_type": "markdown",
   "metadata": {},
   "source": [
    "#default_exp data_load"
   ]
  },
  {
   "cell_type": "code",
   "execution_count": null,
   "metadata": {},
   "outputs": [],
   "source": [
    "#all_no_test"
   ]
  },
  {
   "cell_type": "markdown",
   "metadata": {},
   "source": [
    "## First time setup\n",
    "The first time you start using the repository, you'll need to run the following commands to get everything working.  Since we have access to a terminal, we'll use that to work with any command line functionality.  We'll discuss what these commands mean further in a moment.\n",
    "```\n",
    "nbdev_install_git_hooks\n",
    "nbdev_clean_nbs\n",
    "nbdev_build_lib\n",
    "nbdev_build_docs\n",
    "```"
   ]
  },
  {
   "cell_type": "markdown",
   "metadata": {},
   "source": [
    "# Core functionality\n",
    "The purpose of this demo notebook is to read from files and process them.  Let's say for instance that we have a function that for some reason needs to append `.pdf` to a string that has been input."
   ]
  },
  {
   "cell_type": "markdown",
   "metadata": {},
   "source": [
    "#export"
   ]
  },
  {
   "cell_type": "code",
   "execution_count": 12,
   "metadata": {},
   "outputs": [],
   "source": [
    "import requests\n",
    "import pandas as pd"
   ]
  },
  {
   "cell_type": "code",
   "execution_count": 9,
   "metadata": {},
   "outputs": [],
   "source": [
    "files_list = [551293, 373587, 597061, 434648, 532970,\n",
    "              520668, 209035, 830014, 671125, 893941,\n",
    "              479957, 541893, 836261, 244666, 696866,\n",
    "              332305, 930880, 297116, 542169, 272307]\n",
    "files_base = 'https://raw.githubusercontent.com/vanderbilt-data-science/python-for-deep-learning-workshop/master/workshop-files/'\n",
    "files_type = '.txt'"
   ]
  },
  {
   "cell_type": "code",
   "execution_count": 25,
   "metadata": {},
   "outputs": [],
   "source": [
    "#get files\n",
    "file_texts = [requests.get(files_base+str(file)+files_type).text for file in files_list]"
   ]
  },
  {
   "cell_type": "code",
   "execution_count": 26,
   "metadata": {},
   "outputs": [
    {
     "data": {
      "text/plain": [
       "['The rain and wind abruptly stopped, but the sky still had the gray swirls of storms in the distance. Dave knew this feeling all too well. The calm before the storm. He only had a limited amount of time before all Hell broke loose, but he stopped to admire the calmness. Maybe it would be different this time, he thought, with the knowledge deep within that it wouldnt.',\n",
       " \"She patiently waited for his number to be called. She had no desire to be there, but her mom had insisted that she go. She's resisted at first, but over time she realized it was simply easier to appease her and go. Mom tended to be that way. She would keep insisting until you wore down and did what she wanted. So, here she sat, patiently waiting for her number to be called.\",\n",
       " 'The chair sat in the corner where it had been for over 25 years. The only difference was there was someone actually sitting in it. How long had it been since someone had done that? Ten years or more he imagined. Yet there was no denying the presence in the chair now.']"
      ]
     },
     "execution_count": 26,
     "metadata": {},
     "output_type": "execute_result"
    }
   ],
   "source": [
    "#check files\n",
    "file_texts[:3]"
   ]
  },
  {
   "cell_type": "markdown",
   "metadata": {},
   "source": [
    "Now, we perform a unit test on the function we've written..."
   ]
  },
  {
   "cell_type": "code",
   "execution_count": 16,
   "metadata": {},
   "outputs": [
    {
     "data": {
      "text/html": [
       "<div>\n",
       "<style scoped>\n",
       "    .dataframe tbody tr th:only-of-type {\n",
       "        vertical-align: middle;\n",
       "    }\n",
       "\n",
       "    .dataframe tbody tr th {\n",
       "        vertical-align: top;\n",
       "    }\n",
       "\n",
       "    .dataframe thead th {\n",
       "        text-align: right;\n",
       "    }\n",
       "</style>\n",
       "<table border=\"1\" class=\"dataframe\">\n",
       "  <thead>\n",
       "    <tr style=\"text-align: right;\">\n",
       "      <th></th>\n",
       "      <th>file</th>\n",
       "      <th>text</th>\n",
       "    </tr>\n",
       "  </thead>\n",
       "  <tbody>\n",
       "    <tr>\n",
       "      <th>0</th>\n",
       "      <td>551293</td>\n",
       "      <td>The rain and wind abruptly stopped, but the sk...</td>\n",
       "    </tr>\n",
       "    <tr>\n",
       "      <th>1</th>\n",
       "      <td>373587</td>\n",
       "      <td>She patiently waited for his number to be call...</td>\n",
       "    </tr>\n",
       "    <tr>\n",
       "      <th>2</th>\n",
       "      <td>597061</td>\n",
       "      <td>The chair sat in the corner where it had been ...</td>\n",
       "    </tr>\n",
       "    <tr>\n",
       "      <th>3</th>\n",
       "      <td>434648</td>\n",
       "      <td>The computer wouldn't start. She banged on the...</td>\n",
       "    </tr>\n",
       "    <tr>\n",
       "      <th>4</th>\n",
       "      <td>532970</td>\n",
       "      <td>Do you really listen when you are talking with...</td>\n",
       "    </tr>\n",
       "    <tr>\n",
       "      <th>5</th>\n",
       "      <td>520668</td>\n",
       "      <td>Cake or pie? I can tell a lot about you by whi...</td>\n",
       "    </tr>\n",
       "    <tr>\n",
       "      <th>6</th>\n",
       "      <td>209035</td>\n",
       "      <td>It was a concerning development that he couldn...</td>\n",
       "    </tr>\n",
       "    <tr>\n",
       "      <th>7</th>\n",
       "      <td>830014</td>\n",
       "      <td>She was in a hurry. Not the standard hurry whe...</td>\n",
       "    </tr>\n",
       "    <tr>\n",
       "      <th>8</th>\n",
       "      <td>671125</td>\n",
       "      <td>All he could think about was how it would all ...</td>\n",
       "    </tr>\n",
       "    <tr>\n",
       "      <th>9</th>\n",
       "      <td>893941</td>\n",
       "      <td>The red glint of paint sparkled under the sun....</td>\n",
       "    </tr>\n",
       "    <tr>\n",
       "      <th>10</th>\n",
       "      <td>479957</td>\n",
       "      <td>It was a weird concept. Why would I really nee...</td>\n",
       "    </tr>\n",
       "    <tr>\n",
       "      <th>11</th>\n",
       "      <td>541893</td>\n",
       "      <td>Dave watched as the forest burned up on the hi...</td>\n",
       "    </tr>\n",
       "    <tr>\n",
       "      <th>12</th>\n",
       "      <td>836261</td>\n",
       "      <td>As she sat watching the world go by, something...</td>\n",
       "    </tr>\n",
       "    <tr>\n",
       "      <th>13</th>\n",
       "      <td>244666</td>\n",
       "      <td>\"Explain to me again why I shouldnt cheat?\" he...</td>\n",
       "    </tr>\n",
       "    <tr>\n",
       "      <th>14</th>\n",
       "      <td>696866</td>\n",
       "      <td>Sometimes it's the first moment of the day tha...</td>\n",
       "    </tr>\n",
       "    <tr>\n",
       "      <th>15</th>\n",
       "      <td>332305</td>\n",
       "      <td>Then came the night of the first falling star....</td>\n",
       "    </tr>\n",
       "    <tr>\n",
       "      <th>16</th>\n",
       "      <td>930880</td>\n",
       "      <td>The box sat on the desk next to the computer. ...</td>\n",
       "    </tr>\n",
       "    <tr>\n",
       "      <th>17</th>\n",
       "      <td>297116</td>\n",
       "      <td>What have you noticed today? I noticed that if...</td>\n",
       "    </tr>\n",
       "    <tr>\n",
       "      <th>18</th>\n",
       "      <td>542169</td>\n",
       "      <td>Balloons are pretty and come in different colo...</td>\n",
       "    </tr>\n",
       "    <tr>\n",
       "      <th>19</th>\n",
       "      <td>272307</td>\n",
       "      <td>Do you think you're living an ordinary life? Y...</td>\n",
       "    </tr>\n",
       "  </tbody>\n",
       "</table>\n",
       "</div>"
      ],
      "text/plain": [
       "      file                                               text\n",
       "0   551293  The rain and wind abruptly stopped, but the sk...\n",
       "1   373587  She patiently waited for his number to be call...\n",
       "2   597061  The chair sat in the corner where it had been ...\n",
       "3   434648  The computer wouldn't start. She banged on the...\n",
       "4   532970  Do you really listen when you are talking with...\n",
       "5   520668  Cake or pie? I can tell a lot about you by whi...\n",
       "6   209035  It was a concerning development that he couldn...\n",
       "7   830014  She was in a hurry. Not the standard hurry whe...\n",
       "8   671125  All he could think about was how it would all ...\n",
       "9   893941  The red glint of paint sparkled under the sun....\n",
       "10  479957  It was a weird concept. Why would I really nee...\n",
       "11  541893  Dave watched as the forest burned up on the hi...\n",
       "12  836261  As she sat watching the world go by, something...\n",
       "13  244666  \"Explain to me again why I shouldnt cheat?\" he...\n",
       "14  696866  Sometimes it's the first moment of the day tha...\n",
       "15  332305  Then came the night of the first falling star....\n",
       "16  930880  The box sat on the desk next to the computer. ...\n",
       "17  297116  What have you noticed today? I noticed that if...\n",
       "18  542169  Balloons are pretty and come in different colo...\n",
       "19  272307  Do you think you're living an ordinary life? Y..."
      ]
     },
     "execution_count": 16,
     "metadata": {},
     "output_type": "execute_result"
    }
   ],
   "source": [
    "#get it into a dataframe\n",
    "file_df = pd.DataFrame({'file':files_list, 'text':file_texts})\n",
    "file_df"
   ]
  },
  {
   "cell_type": "markdown",
   "metadata": {},
   "source": [
    "# Collaboration\n",
    "What if we were collaborating with others and wanted to use this data extensively?  What if this functionality was SUBSTANTIALLY more complex and took several functions and cells to implement?"
   ]
  },
  {
   "cell_type": "markdown",
   "metadata": {},
   "source": [
    "#export"
   ]
  },
  {
   "cell_type": "code",
   "execution_count": 17,
   "metadata": {},
   "outputs": [],
   "source": [
    "def read_data(files_list=[]):\n",
    "    if not files_list:\n",
    "        files_list = [551293, 373587, 597061, 434648, 532970,\n",
    "              520668, 209035, 830014, 671125, 893941,\n",
    "              479957, 541893, 836261, 244666, 696866,\n",
    "              332305, 930880, 297116, 542169, 272307]\n",
    "    \n",
    "    files_base = 'https://raw.githubusercontent.com/vanderbilt-data-science/python-for-deep-learning-workshop/master/workshop-files/'\n",
    "    files_type = '.txt'\n",
    "    \n",
    "    #get files\n",
    "    file_texts = [requests.get(files_base+str(file)+files_type).text for file in files_list]\n",
    "    \n",
    "    #create dataframe\n",
    "    file_df = pd.DataFrame({'file':files_list, 'text':file_texts})\n",
    "    \n",
    "    return file_df"
   ]
  },
  {
   "cell_type": "markdown",
   "metadata": {},
   "source": [
    "### Test to make sure the function works:"
   ]
  },
  {
   "cell_type": "code",
   "execution_count": 18,
   "metadata": {},
   "outputs": [
    {
     "data": {
      "text/html": [
       "<div>\n",
       "<style scoped>\n",
       "    .dataframe tbody tr th:only-of-type {\n",
       "        vertical-align: middle;\n",
       "    }\n",
       "\n",
       "    .dataframe tbody tr th {\n",
       "        vertical-align: top;\n",
       "    }\n",
       "\n",
       "    .dataframe thead th {\n",
       "        text-align: right;\n",
       "    }\n",
       "</style>\n",
       "<table border=\"1\" class=\"dataframe\">\n",
       "  <thead>\n",
       "    <tr style=\"text-align: right;\">\n",
       "      <th></th>\n",
       "      <th>file</th>\n",
       "      <th>text</th>\n",
       "    </tr>\n",
       "  </thead>\n",
       "  <tbody>\n",
       "    <tr>\n",
       "      <th>0</th>\n",
       "      <td>551293</td>\n",
       "      <td>The rain and wind abruptly stopped, but the sk...</td>\n",
       "    </tr>\n",
       "    <tr>\n",
       "      <th>1</th>\n",
       "      <td>373587</td>\n",
       "      <td>She patiently waited for his number to be call...</td>\n",
       "    </tr>\n",
       "    <tr>\n",
       "      <th>2</th>\n",
       "      <td>597061</td>\n",
       "      <td>The chair sat in the corner where it had been ...</td>\n",
       "    </tr>\n",
       "    <tr>\n",
       "      <th>3</th>\n",
       "      <td>434648</td>\n",
       "      <td>The computer wouldn't start. She banged on the...</td>\n",
       "    </tr>\n",
       "    <tr>\n",
       "      <th>4</th>\n",
       "      <td>532970</td>\n",
       "      <td>Do you really listen when you are talking with...</td>\n",
       "    </tr>\n",
       "    <tr>\n",
       "      <th>5</th>\n",
       "      <td>520668</td>\n",
       "      <td>Cake or pie? I can tell a lot about you by whi...</td>\n",
       "    </tr>\n",
       "    <tr>\n",
       "      <th>6</th>\n",
       "      <td>209035</td>\n",
       "      <td>It was a concerning development that he couldn...</td>\n",
       "    </tr>\n",
       "    <tr>\n",
       "      <th>7</th>\n",
       "      <td>830014</td>\n",
       "      <td>She was in a hurry. Not the standard hurry whe...</td>\n",
       "    </tr>\n",
       "    <tr>\n",
       "      <th>8</th>\n",
       "      <td>671125</td>\n",
       "      <td>All he could think about was how it would all ...</td>\n",
       "    </tr>\n",
       "    <tr>\n",
       "      <th>9</th>\n",
       "      <td>893941</td>\n",
       "      <td>The red glint of paint sparkled under the sun....</td>\n",
       "    </tr>\n",
       "    <tr>\n",
       "      <th>10</th>\n",
       "      <td>479957</td>\n",
       "      <td>It was a weird concept. Why would I really nee...</td>\n",
       "    </tr>\n",
       "    <tr>\n",
       "      <th>11</th>\n",
       "      <td>541893</td>\n",
       "      <td>Dave watched as the forest burned up on the hi...</td>\n",
       "    </tr>\n",
       "    <tr>\n",
       "      <th>12</th>\n",
       "      <td>836261</td>\n",
       "      <td>As she sat watching the world go by, something...</td>\n",
       "    </tr>\n",
       "    <tr>\n",
       "      <th>13</th>\n",
       "      <td>244666</td>\n",
       "      <td>\"Explain to me again why I shouldnt cheat?\" he...</td>\n",
       "    </tr>\n",
       "    <tr>\n",
       "      <th>14</th>\n",
       "      <td>696866</td>\n",
       "      <td>Sometimes it's the first moment of the day tha...</td>\n",
       "    </tr>\n",
       "    <tr>\n",
       "      <th>15</th>\n",
       "      <td>332305</td>\n",
       "      <td>Then came the night of the first falling star....</td>\n",
       "    </tr>\n",
       "    <tr>\n",
       "      <th>16</th>\n",
       "      <td>930880</td>\n",
       "      <td>The box sat on the desk next to the computer. ...</td>\n",
       "    </tr>\n",
       "    <tr>\n",
       "      <th>17</th>\n",
       "      <td>297116</td>\n",
       "      <td>What have you noticed today? I noticed that if...</td>\n",
       "    </tr>\n",
       "    <tr>\n",
       "      <th>18</th>\n",
       "      <td>542169</td>\n",
       "      <td>Balloons are pretty and come in different colo...</td>\n",
       "    </tr>\n",
       "    <tr>\n",
       "      <th>19</th>\n",
       "      <td>272307</td>\n",
       "      <td>Do you think you're living an ordinary life? Y...</td>\n",
       "    </tr>\n",
       "  </tbody>\n",
       "</table>\n",
       "</div>"
      ],
      "text/plain": [
       "      file                                               text\n",
       "0   551293  The rain and wind abruptly stopped, but the sk...\n",
       "1   373587  She patiently waited for his number to be call...\n",
       "2   597061  The chair sat in the corner where it had been ...\n",
       "3   434648  The computer wouldn't start. She banged on the...\n",
       "4   532970  Do you really listen when you are talking with...\n",
       "5   520668  Cake or pie? I can tell a lot about you by whi...\n",
       "6   209035  It was a concerning development that he couldn...\n",
       "7   830014  She was in a hurry. Not the standard hurry whe...\n",
       "8   671125  All he could think about was how it would all ...\n",
       "9   893941  The red glint of paint sparkled under the sun....\n",
       "10  479957  It was a weird concept. Why would I really nee...\n",
       "11  541893  Dave watched as the forest burned up on the hi...\n",
       "12  836261  As she sat watching the world go by, something...\n",
       "13  244666  \"Explain to me again why I shouldnt cheat?\" he...\n",
       "14  696866  Sometimes it's the first moment of the day tha...\n",
       "15  332305  Then came the night of the first falling star....\n",
       "16  930880  The box sat on the desk next to the computer. ...\n",
       "17  297116  What have you noticed today? I noticed that if...\n",
       "18  542169  Balloons are pretty and come in different colo...\n",
       "19  272307  Do you think you're living an ordinary life? Y..."
      ]
     },
     "execution_count": 18,
     "metadata": {},
     "output_type": "execute_result"
    }
   ],
   "source": [
    "read_data()"
   ]
  },
  {
   "cell_type": "markdown",
   "metadata": {},
   "source": [
    "**Questions to consider about the above code development**:  \n",
    "We just now copied and pasted the same exact variable names into the function as what we used.  What would happen if we were to have missed a variable that we defined outside of the function, but used inside the function?  Can you think of any pitfalls of keeping the same variable names in the function as in the outside code?  What other approaches could you take?"
   ]
  },
  {
   "cell_type": "markdown",
   "metadata": {},
   "source": [
    "# Building modules and cleaning notebooks\n",
    "The following commands are useful for cleaning notebooks and building your module library, and we'll again use them at the command line.  Let's see what they do.  The commands are listed below for convenience:\n",
    "```\n",
    "nbdev_clean_nbs\n",
    "nbdev_build_lib\n",
    "```"
   ]
  },
  {
   "cell_type": "markdown",
   "metadata": {},
   "source": [
    "# Try it yourself!\n",
    "In the section below, create a function which takes in the dataframe we produced, and returns a random sample of half of the data.  You can use the `sample` function from pandas to do this with the `frac` argument (https://pandas.pydata.org/docs/reference/api/pandas.DataFrame.sample.html).\n",
    "\n",
    "Make sure that you correctly export this function and check to see that it is in the library you created."
   ]
  },
  {
   "cell_type": "markdown",
   "metadata": {},
   "source": [
    "#export"
   ]
  },
  {
   "cell_type": "code",
   "execution_count": 21,
   "metadata": {},
   "outputs": [],
   "source": [
    "#define function\n",
    "def random_subsample(df, ss_percent=0.5):\n",
    "    \n",
    "    return(df.sample(frac=ss_percent))"
   ]
  },
  {
   "cell_type": "code",
   "execution_count": 23,
   "metadata": {},
   "outputs": [
    {
     "data": {
      "text/html": [
       "<div>\n",
       "<style scoped>\n",
       "    .dataframe tbody tr th:only-of-type {\n",
       "        vertical-align: middle;\n",
       "    }\n",
       "\n",
       "    .dataframe tbody tr th {\n",
       "        vertical-align: top;\n",
       "    }\n",
       "\n",
       "    .dataframe thead th {\n",
       "        text-align: right;\n",
       "    }\n",
       "</style>\n",
       "<table border=\"1\" class=\"dataframe\">\n",
       "  <thead>\n",
       "    <tr style=\"text-align: right;\">\n",
       "      <th></th>\n",
       "      <th>file</th>\n",
       "      <th>text</th>\n",
       "    </tr>\n",
       "  </thead>\n",
       "  <tbody>\n",
       "    <tr>\n",
       "      <th>17</th>\n",
       "      <td>297116</td>\n",
       "      <td>What have you noticed today? I noticed that if...</td>\n",
       "    </tr>\n",
       "    <tr>\n",
       "      <th>7</th>\n",
       "      <td>830014</td>\n",
       "      <td>She was in a hurry. Not the standard hurry whe...</td>\n",
       "    </tr>\n",
       "    <tr>\n",
       "      <th>5</th>\n",
       "      <td>520668</td>\n",
       "      <td>Cake or pie? I can tell a lot about you by whi...</td>\n",
       "    </tr>\n",
       "    <tr>\n",
       "      <th>3</th>\n",
       "      <td>434648</td>\n",
       "      <td>The computer wouldn't start. She banged on the...</td>\n",
       "    </tr>\n",
       "  </tbody>\n",
       "</table>\n",
       "</div>"
      ],
      "text/plain": [
       "      file                                               text\n",
       "17  297116  What have you noticed today? I noticed that if...\n",
       "7   830014  She was in a hurry. Not the standard hurry whe...\n",
       "5   520668  Cake or pie? I can tell a lot about you by whi...\n",
       "3   434648  The computer wouldn't start. She banged on the..."
      ]
     },
     "execution_count": 23,
     "metadata": {},
     "output_type": "execute_result"
    }
   ],
   "source": [
    "#get results\n",
    "random_subsample(file_df, ss_percent=0.2)"
   ]
  }
 ],
 "metadata": {
  "kernelspec": {
   "display_name": "Python 3",
   "language": "python",
   "name": "python3"
  },
  "language_info": {
   "codemirror_mode": {
    "name": "ipython",
    "version": 3
   },
   "file_extension": ".py",
   "mimetype": "text/x-python",
   "name": "python",
   "nbconvert_exporter": "python",
   "pygments_lexer": "ipython3",
   "version": "3.8.10"
  }
 },
 "nbformat": 4,
 "nbformat_minor": 4
}
