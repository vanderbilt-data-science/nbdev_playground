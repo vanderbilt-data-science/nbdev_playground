{
 "cells": [
  {
   "cell_type": "markdown",
   "id": "049dc41c-0fde-4955-b094-392cebb19c94",
   "metadata": {},
   "source": [
    "# 0_colab_setup\n",
    "> A helper notebook for setting up Google Colab\n",
    "\n",
    "We will use this notebook to mount your Google Drive so that you'll be able to clone the repository directly to it."
   ]
  },
  {
   "cell_type": "code",
   "execution_count": null,
   "id": "117069ed-dc4a-4277-b89c-63ec36a77222",
   "metadata": {},
   "outputs": [],
   "source": [
    "#all_no_test"
   ]
  },
  {
   "cell_type": "markdown",
   "id": "c6b6fa7d-f485-4d11-b4bc-3b581aca8b56",
   "metadata": {},
   "source": [
    "## Mount your Google Drive so that the repository will persist between usages of Google Colab\n",
    "Make sure to follow the steps that Google gives you for authentication.  This mostly consists of visiting the url, copying the code on that page by clicking the copy button next to the code, coming back to this page, pasting the code into the cell, and clicking enter."
   ]
  },
  {
   "cell_type": "code",
   "execution_count": null,
   "id": "8718a630-d43e-4a6d-9e1a-0497f2de7bb1",
   "metadata": {},
   "outputs": [],
   "source": [
    "from google.colab import drive\n",
    "drive.mount('/content/drive')"
   ]
  },
  {
   "cell_type": "markdown",
   "id": "ac372171-b3b5-4d46-98f2-73011fad96ed",
   "metadata": {},
   "source": [
    "## Navigate to the folder where you want to clone the repository"
   ]
  },
  {
   "cell_type": "code",
   "execution_count": null,
   "id": "9ff73d18-35d5-493e-ac66-00430f5070fb",
   "metadata": {},
   "outputs": [],
   "source": [
    "%cd drive/MyDrive"
   ]
  },
  {
   "cell_type": "markdown",
   "id": "671b8a59-17fa-4c7a-815a-eb3063f7ab9c",
   "metadata": {},
   "source": [
    "## Clone the repository to the directory\n",
    "The exclamation point here signals that we're using a Bash command.  This is wonderful functionality of the ipython kernel!"
   ]
  },
  {
   "cell_type": "code",
   "execution_count": null,
   "id": "6605e2da-695f-4060-a8fb-9b1f6ff72e8e",
   "metadata": {},
   "outputs": [],
   "source": [
    "!git clone https://github.com/vanderbilt-data-science/nbdev_playground.git"
   ]
  },
  {
   "cell_type": "markdown",
   "id": "5bcebc5d-58c8-4f1f-b48f-23ea6905ef4e",
   "metadata": {},
   "source": [
    "Now, if you refresh your directory, you'll see that the directory `nbdev_playground` is present.  Let's try to open `00_core.ipynb` for editing.\n",
    "\n",
    "Oop, we can't edit the version in our drive!  That's OK.  We can open it from our own Google Drive."
   ]
  },
  {
   "cell_type": "markdown",
   "id": "a29d11a0-a1bc-475c-8588-f6aa9a49594a",
   "metadata": {},
   "source": [
    "## Open the notebook from your Google Drive\n",
    "1.  Navigate to https://drive.google.com.  Make sure you're using the same account as you were using on Google Colab.\n",
    "2.  Find `nbdev_playground` in your file list.  Click on the folder to enter this directory.\n",
    "3.  Find `00_core.ipynb`.  Right click on it, find `Open With`, and select `Google Colaboratory`.\n",
    "\n",
    "Viola!  You're now ready to edit this file on Google Colab!"
   ]
  },
  {
   "cell_type": "markdown",
   "id": "f42938d8-0d60-4b47-9262-f2f8c53940e8",
   "metadata": {},
   "source": [
    "## How does this differ from how I would use nbdev locally?\n",
    "Well, not much.  Many of these steps would be absolutely identical.\n",
    "1.  New step: If using conda, you'll need to `conda install nbdev` to install nbdev.  If you're using nbdev, you can also `pip install nbdev`.\n",
    "2.  Analogous step: You'll need to navigate to a directory where you want to clone the repository.\n",
    "3.  Analogous step: You'll need to clone repository using `git clone` in a terminal\n",
    "4.  Analogous step: You'll need to navigate into the directory where your notebooks are\n",
    "5.  Analogous step: You'll need to open the notebook using your favorite IDE (e.g., Jupyter Notebook, Jupyter Lab, PyCharm Professional, etc.)\n",
    "\n",
    "Although the commands used may differ, most of the steps are the exact same!"
   ]
  }
 ],
 "metadata": {
  "kernelspec": {
   "display_name": "Python 3",
   "language": "python",
   "name": "python3"
  }
 },
 "nbformat": 4,
 "nbformat_minor": 5
}
