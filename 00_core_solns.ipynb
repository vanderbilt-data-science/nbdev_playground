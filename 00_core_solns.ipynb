{
 "cells": [
  {
   "cell_type": "markdown",
   "metadata": {},
   "source": [
    "# 00_core_solns\n",
    "> Demo notebok for exploring nbdev\n",
    "\n",
    "In this notebook, we explore the functionality of nbdev.  If you're working on Google Colab, make sure you've already cloned (or copied) the repository onto your Google Drive.  Note that the following line should be added somewhere in the notebook.  It isn't explicitly coded here because nbdev will read this notebook and try to create a module (`core`) when there is already a `core` module from the previous notebook.  We implement this in markdown here to avoid possible complexities."
   ]
  },
  {
   "cell_type": "markdown",
   "metadata": {},
   "source": [
    "`#default_exp core`"
   ]
  },
  {
   "cell_type": "code",
   "execution_count": null,
   "metadata": {},
   "outputs": [],
   "source": [
    "# all_no_test"
   ]
  },
  {
   "cell_type": "markdown",
   "metadata": {},
   "source": [
    "## Compatibility steps for Google Colab\n",
    "These steps are required to access these repo files (your code, built modules, etc) while editing your notebook of interest on Google Colab."
   ]
  },
  {
   "cell_type": "code",
   "execution_count": null,
   "metadata": {},
   "outputs": [],
   "source": [
    "!pip install nbdev"
   ]
  },
  {
   "cell_type": "code",
   "execution_count": null,
   "metadata": {},
   "outputs": [],
   "source": [
    "from google.colab import drive\n",
    "drive.mount('/content/drive')"
   ]
  },
  {
   "cell_type": "code",
   "execution_count": null,
   "metadata": {},
   "outputs": [],
   "source": [
    "%cd drive/MyDrive/nbdev_playground"
   ]
  },
  {
   "cell_type": "markdown",
   "metadata": {},
   "source": [
    "## First time setup\n",
    "The first time you start using the repository, you'll need to run the following commands to get everything working.  We'll discuss what they are further in a moment."
   ]
  },
  {
   "cell_type": "code",
   "execution_count": null,
   "metadata": {},
   "outputs": [],
   "source": [
    "!nbdev_install_git_hooks"
   ]
  },
  {
   "cell_type": "code",
   "execution_count": null,
   "metadata": {},
   "outputs": [],
   "source": [
    "!nbdev_clean_nbs"
   ]
  },
  {
   "cell_type": "code",
   "execution_count": null,
   "metadata": {},
   "outputs": [],
   "source": [
    "!nbdev_build_lib"
   ]
  },
  {
   "cell_type": "code",
   "execution_count": null,
   "metadata": {},
   "outputs": [],
   "source": [
    "!nbdev_build_docs"
   ]
  },
  {
   "cell_type": "markdown",
   "metadata": {},
   "source": [
    "# Core functionality\n",
    "The purpose of this demo notebook is to read from files and process them.  Let's say for instance that we have a function that for some reason needs to append `.pdf` to a string that has been input.  Note that we again make the markdown here for the export command so that nbdev does not try to export the following function."
   ]
  },
  {
   "cell_type": "markdown",
   "metadata": {},
   "source": [
    "`#export`"
   ]
  },
  {
   "cell_type": "code",
   "execution_count": null,
   "metadata": {},
   "outputs": [],
   "source": [
    "#create function that will append a file ending\n",
    "def append_file_ending(in_str):\n",
    "    return in_str + '.pdf'"
   ]
  },
  {
   "cell_type": "markdown",
   "metadata": {},
   "source": [
    "Now, we perform a unit test on the function we've written..."
   ]
  },
  {
   "cell_type": "code",
   "execution_count": null,
   "metadata": {},
   "outputs": [],
   "source": [
    "#perform unit test\n",
    "test_str = 'ThisNewFile'\n",
    "print(append_file_ending(test_str))"
   ]
  },
  {
   "cell_type": "markdown",
   "metadata": {},
   "source": [
    "# Building modules and cleaning notebooks"
   ]
  },
  {
   "cell_type": "code",
   "execution_count": null,
   "metadata": {},
   "outputs": [],
   "source": [
    "#clean metadata from notebooks\n",
    "!nbdev_clean_nbs"
   ]
  },
  {
   "cell_type": "code",
   "execution_count": null,
   "metadata": {},
   "outputs": [],
   "source": [
    "#build modules\n",
    "!nbdev_build_lib"
   ]
  }
 ],
 "metadata": {
  "kernelspec": {
   "display_name": "Python 3",
   "language": "python",
   "name": "python3"
  }
 },
 "nbformat": 4,
 "nbformat_minor": 4
}
